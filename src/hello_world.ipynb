{
  "cells": [
    {
      "cell_type": "code",
      "execution_count": null,
      "metadata": {},
      "outputs": [],
      "source": [
        "# Hello World Notebook - CI/CD Test\n",
        "import os\n",
        "import datetime\n",
        "\n",
        "# Get environment information\n",
        "bundle_target = os.environ.get('DATABRICKS_BUNDLE_ENV', 'unknown')\n",
        "print(\"=\" * 50)\n",
        "print(f\"🚀 HELLO WORLD FROM DATABRICKS!\")\n",
        "print(f\"📦 Environment: {bundle_target.upper()}\")\n",
        "print(f\"🔧 Deployed via GitHub Actions CI/CD pipeline\")\n",
        "print(\"=\" * 50)\n",
        "\n",
        "# You can add more complex logic here\n",
        "current_time = datetime.datetime.now()\n",
        "print(f\"⏰ Current timestamp: {current_time}\")\n",
        "print(f\"✅ Deployment test successful at: {current_time.strftime('%Y-%m-%d %H:%M:%S')}\")\n",
        "\n",
        "# Environment-specific message\n",
        "if bundle_target == 'dev':\n",
        "    print(\"🛠️  This is the DEVELOPMENT environment\")\n",
        "    print(\"💡 Safe to test and experiment here!\")\n",
        "elif bundle_target == 'prod':\n",
        "    print(\"🏭 This is the PRODUCTION environment\")\n",
        "    print(\"⚠️  This affects real users - be careful!\")\n",
        "else:\n",
        "    print(f\"❓ Unknown environment: {bundle_target}\")\n",
        "\n",
        "print(\"=\" * 50)\n"
      ]
    }
  ],
  "metadata": {
    "language_info": {
      "name": "python"
    }
  },
  "nbformat": 4,
  "nbformat_minor": 2
}
