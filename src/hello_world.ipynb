{
  "cells": [
    {
      "cell_type": "code",
      "execution_count": null,
      "metadata": {},
      "outputs": [],
      "source": [
        "# Hello World Notebook - CI/CD Test\n",
        "print(\"Hello World from Databricks!\")\n",
        "print(\"This job was deployed via GitHub Actions CI/CD pipeline\")\n",
        "print(\"Testing automated deployment - Pipeline is working!\")\n",
        "\n",
        "# You can add more complex logic here\n",
        "import datetime\n",
        "print(f\"Current timestamp: {datetime.datetime.now()}\")\n",
        "print(f\"Deployment test successful at: {datetime.datetime.now().strftime('%Y-%m-%d %H:%M:%S')}\")\n"
      ]
    }
  ],
  "metadata": {
    "language_info": {
      "name": "python"
    }
  },
  "nbformat": 4,
  "nbformat_minor": 2
}
