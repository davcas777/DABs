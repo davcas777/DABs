{
  "cells": [
    {
      "cell_type": "code",
      "execution_count": null,
      "metadata": {},
      "outputs": [],
      "source": [
        "# Hello World Notebook\n",
        "print(\"Hello World from Databricks!\")\n",
        "print(\"This job was deployed via GitHub Actions CI/CD pipeline\")\n",
        "\n",
        "# You can add more complex logic here\n",
        "import datetime\n",
        "print(f\"Current timestamp: {datetime.datetime.now()}\")\n"
      ]
    }
  ],
  "metadata": {
    "language_info": {
      "name": "python"
    }
  },
  "nbformat": 4,
  "nbformat_minor": 2
}
